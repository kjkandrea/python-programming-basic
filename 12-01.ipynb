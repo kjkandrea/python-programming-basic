{
  "nbformat": 4,
  "nbformat_minor": 0,
  "metadata": {
    "colab": {
      "provenance": [],
      "include_colab_link": true
    },
    "kernelspec": {
      "name": "python3",
      "display_name": "Python 3"
    },
    "language_info": {
      "name": "python"
    }
  },
  "cells": [
    {
      "cell_type": "markdown",
      "metadata": {
        "id": "view-in-github",
        "colab_type": "text"
      },
      "source": [
        "<a href=\"https://colab.research.google.com/github/kjkandrea/python-programming-basic/blob/main/12-01.ipynb\" target=\"_parent\"><img src=\"https://colab.research.google.com/assets/colab-badge.svg\" alt=\"Open In Colab\"/></a>"
      ]
    },
    {
      "cell_type": "markdown",
      "source": [
        "# 12강 실습"
      ],
      "metadata": {
        "id": "gsIqze9Vyw5b"
      }
    },
    {
      "cell_type": "markdown",
      "source": [
        "**12강 1절**"
      ],
      "metadata": {
        "id": "bQcXLxROy7C_"
      }
    },
    {
      "cell_type": "markdown",
      "source": [
        "'Khan.txt' 파일을 읽고 처리하는 프로그램을 작성하시오."
      ],
      "metadata": {
        "id": "CMTsz70kzLeS"
      }
    },
    {
      "cell_type": "code",
      "source": [
        "khan_fp = open(\"Khan.txt\", \"r\")\n",
        "\n",
        "for motto in khan_fp.readlines():\n",
        "    print(motto.strip())\n",
        "\n",
        "khan_fp.close()"
      ],
      "metadata": {
        "id": "aW0_xkG3fQtz",
        "colab": {
          "base_uri": "https://localhost:8080/"
        },
        "outputId": "ec0cf60b-90d4-4b0c-91e3-2c5e1807884b"
      },
      "execution_count": 18,
      "outputs": [
        {
          "output_type": "stream",
          "name": "stdout",
          "text": [
            "1. 두려우면 실행하지 말라, 만약 실행한다면 두려워하지 말라.\n",
            "2. 최고라고 잘난 체하지 말라. 아무리 높은 산이라도 그 산에는 짐승이 산다. 그 짐승이 산꼭대기에 올라가면 산보다 더 높아진다.\n",
            "3. 나는 사치를 싫어하고 절제를 실천하며 살아왔다. 좋은 옷을 입고, 빠른 말을 타고, 아름다운 여자들을 거느리면 자신의 전망이나 목표를 잊기 쉽다. 그런 사람은 노예나 다름없으며 반드시 모든 것을 잃게 된다.\n",
            "4. 리더는 말을 많이 해선 안 된다. 말이 아니라 행동을 통해 자신의 생각을 보여줘야 한다. 지도자는 백성이 행복해지기 전에는 결코 행복해질 수 없다.\n",
            "5. 화가 나서 하는 일은 무조건 실패하게 돼 있다.\n",
            "6. 자만심을 누르는 것은 사자를 제압하는 것보다 어려우며, 분노를 이기는 것은 가장 힘센 씨름 선수를 이기는 것보다 어렵다.\n",
            "7. 군대는 전술과 전력만 우월하면 정복할 수 있다. 그러나 나라는 사람들의 마음을 얻어야 정복할 수 있다.\n",
            "8. 말 위에서 세상을 정복하는 것은 쉽다. 어려운 것은 말에서 내려와 지배하는 것이다.\n",
            "9. 나의 부하 예순베이는 아무리 싸워도 지치지 않는다. 그래서 다른 사람도 자기처럼 오래 싸우는 것을 당연하게 여기고 자기만큼 못하면 버럭 화를 낸다. 그런 사람은 절대 지도자가 될 수 없다.\n",
            "10. 성벽의 위력은 그것을 지키는 사람의 용기 이상도, 이하도 아니다.\n"
          ]
        }
      ]
    },
    {
      "cell_type": "code",
      "source": [
        "khan_fp = open(\"Khan.txt\", \"a\")\n",
        "\n",
        "khan_fp.write(\"\\n\\n\")\n",
        "khan_fp.write(format(\"-칭기스 칸-\"))\n",
        "\n",
        "khan_fp.close()"
      ],
      "metadata": {
        "id": "HdyFwsKOgnbs"
      },
      "execution_count": 60,
      "outputs": []
    },
    {
      "cell_type": "markdown",
      "source": [
        "**12강 2절**"
      ],
      "metadata": {
        "id": "550wwIWMy_Fn"
      }
    },
    {
      "cell_type": "markdown",
      "source": [
        "\"hamlet_by_Shakespeare.txt\" 파일에 포함된 단어와 각 단어의 출현 횟수를 출력하는 프로그램을 작성하시오"
      ],
      "metadata": {
        "id": "ul20N9_MzMGh"
      }
    },
    {
      "cell_type": "markdown",
      "source": [
        "'hamlet_by_Shakespeare.txt' 파일에 포함된 단어 중 출현한 횟수가 100 이상되는 단어와 출력 횟수를 출력하는 프로그램을 작성하시오\n"
      ],
      "metadata": {
        "id": "5ui2teFoHcsF"
      }
    },
    {
      "cell_type": "code",
      "source": [
        "import re\n",
        "\n",
        "h_fp = open(\"Hamlet_by_Shakespeare.txt\", \"r\")\n",
        "\n",
        "word_dict = dict()\n",
        "\n",
        "for line in h_fp.readlines():\n",
        "    for word in line.strip().split(\" \"):\n",
        "        word = re.sub(r'[^a-zA-Z]', '', word).lower()\n",
        "\n",
        "        if (word):\n",
        "            if word_dict.get(word) is not None:\n",
        "                word_dict[word] += 1\n",
        "            else:\n",
        "                word_dict[word] = 1\n",
        "\n",
        "word_r_dict = {v:k for (k, v) in word_dict.items()}\n",
        "\n",
        "word_dict = {k:v for (v, k) in sorted(word_r_dict.items(), reverse=True)}\n",
        "\n",
        "for key in word_dict:\n",
        "    print(\"[\" + key + \"]\", word_dict[key], \"회\")\n",
        "\n",
        "h_fp.close()"
      ],
      "metadata": {
        "id": "8hkroqVlX69s",
        "colab": {
          "base_uri": "https://localhost:8080/"
        },
        "outputId": "c9ec1941-fad7-4819-c185-41a926cdccde"
      },
      "execution_count": 59,
      "outputs": [
        {
          "output_type": "stream",
          "name": "stdout",
          "text": [
            "[the] 1086 회\n",
            "[and] 968 회\n",
            "[to] 758 회\n",
            "[of] 678 회\n",
            "[i] 564 회\n",
            "[you] 552 회\n",
            "[a] 534 회\n",
            "[my] 517 회\n",
            "[hamlet] 467 회\n",
            "[in] 439 회\n",
            "[it] 413 회\n",
            "[that] 386 회\n",
            "[is] 359 회\n",
            "[not] 313 회\n",
            "[his] 306 회\n",
            "[this] 299 회\n",
            "[with] 277 회\n",
            "[but] 274 회\n",
            "[for] 251 회\n",
            "[your] 242 회\n",
            "[as] 231 회\n",
            "[me] 228 회\n",
            "[be] 223 회\n",
            "[lord] 218 회\n",
            "[what] 203 회\n",
            "[king] 197 회\n",
            "[him] 196 회\n",
            "[so] 192 회\n",
            "[have] 182 회\n",
            "[will] 171 회\n",
            "[do] 160 회\n",
            "[horatio] 154 회\n",
            "[no] 140 회\n",
            "[we] 138 회\n",
            "[on] 135 회\n",
            "[are] 130 회\n",
            "[all] 125 회\n",
            "[queen] 122 회\n",
            "[our] 120 회\n",
            "[polonius] 118 회\n",
            "[shall] 117 회\n",
            "[if] 114 회\n",
            "[they] 113 회\n",
            "[o] 111 회\n",
            "[thou] 108 회\n",
            "[good] 106 회\n",
            "[now] 100 회\n",
            "[from] 98 회\n",
            "[more] 96 회\n",
            "[let] 94 회\n",
            "[her] 92 회\n",
            "[t] 88 회\n",
            "[thy] 87 회\n",
            "[was] 86 회\n",
            "[well] 85 회\n",
            "[at] 83 회\n",
            "[would] 81 회\n",
            "[like] 79 회\n",
            "[sir] 76 회\n",
            "[know] 75 회\n",
            "[there] 74 회\n",
            "[enter] 73 회\n",
            "[tis] 72 회\n",
            "[th] 71 회\n",
            "[us] 68 회\n",
            "[love] 67 회\n",
            "[did] 66 회\n",
            "[go] 65 회\n",
            "[very] 64 회\n",
            "[speak] 63 회\n",
            "[ill] 61 회\n",
            "[must] 60 회\n",
            "[give] 59 회\n",
            "[thee] 58 회\n",
            "[guildenstern] 57 회\n",
            "[their] 56 회\n",
            "[man] 55 회\n",
            "[should] 54 회\n",
            "[out] 53 회\n",
            "[father] 52 회\n",
            "[she] 50 회\n",
            "[think] 49 회\n",
            "[these] 47 회\n",
            "[see] 46 회\n",
            "[heaven] 44 회\n",
            "[yet] 43 회\n",
            "[tell] 42 회\n",
            "[marcellus] 41 회\n",
            "[own] 39 회\n",
            "[ay] 38 회\n",
            "[exit] 37 회\n",
            "[mother] 36 회\n",
            "[can] 35 회\n",
            "[soul] 34 회\n",
            "[hear] 33 회\n",
            "[life] 32 회\n",
            "[could] 31 회\n",
            "[mine] 30 회\n",
            "[into] 29 회\n",
            "[pray] 28 회\n",
            "[matter] 27 회\n",
            "[both] 26 회\n",
            "[first] 25 회\n",
            "[put] 24 회\n",
            "[call] 23 회\n",
            "[mad] 22 회\n",
            "[follow] 21 회\n",
            "[words] 20 회\n",
            "[sword] 19 회\n",
            "[gentleman] 18 회\n",
            "[cause] 17 회\n",
            "[since] 16 회\n",
            "[between] 15 회\n",
            "[dost] 14 회\n",
            "[sent] 13 회\n",
            "[ha] 12 회\n",
            "[fortune] 11 회\n",
            "[noise] 10 회\n",
            "[sings] 9 회\n",
            "[skull] 8 회\n",
            "[cup] 7 회\n",
            "[water] 6 회\n",
            "[carriages] 5 회\n",
            "[six] 4 회\n",
            "[drum] 3 회\n",
            "[envenomed] 2 회\n",
            "[peal] 1 회\n"
          ]
        }
      ]
    }
  ]
}