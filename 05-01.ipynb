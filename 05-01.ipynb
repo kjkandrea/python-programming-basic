{
  "nbformat": 4,
  "nbformat_minor": 0,
  "metadata": {
    "colab": {
      "provenance": [],
      "include_colab_link": true
    },
    "kernelspec": {
      "name": "python3",
      "display_name": "Python 3"
    },
    "language_info": {
      "name": "python"
    }
  },
  "cells": [
    {
      "cell_type": "markdown",
      "metadata": {
        "id": "view-in-github",
        "colab_type": "text"
      },
      "source": [
        "<a href=\"https://colab.research.google.com/github/kjkandrea/python-programming-basic/blob/main/05-01.ipynb\" target=\"_parent\"><img src=\"https://colab.research.google.com/assets/colab-badge.svg\" alt=\"Open In Colab\"/></a>"
      ]
    },
    {
      "cell_type": "markdown",
      "source": [
        "# 5강 2절"
      ],
      "metadata": {
        "id": "QaMMtoihlN9D"
      }
    },
    {
      "cell_type": "markdown",
      "source": [
        "삼각형 출력하기"
      ],
      "metadata": {
        "id": "zsVGhzcxlSh2"
      }
    },
    {
      "cell_type": "code",
      "execution_count": 3,
      "metadata": {
        "id": "Uzg7FWgclGzv",
        "colab": {
          "base_uri": "https://localhost:8080/"
        },
        "outputId": "feb87890-90c3-4d05-89c7-627612c1c37f"
      },
      "outputs": [
        {
          "output_type": "stream",
          "name": "stdout",
          "text": [
            "    *\n",
            "   ***\n",
            "  *****\n",
            " *******\n"
          ]
        }
      ],
      "source": [
        "print(\"    *\")\n",
        "print(\"   ***\")\n",
        "print(\"  *****\")\n",
        "print(\" *******\")"
      ]
    },
    {
      "cell_type": "code",
      "source": [
        "rad = input(\"반지름의 값을 입력하세요: \")"
      ],
      "metadata": {
        "colab": {
          "base_uri": "https://localhost:8080/"
        },
        "id": "YCFu5zWtu3-N",
        "outputId": "f38247f6-fceb-468e-e3d7-d21b8a42ba51"
      },
      "execution_count": 7,
      "outputs": [
        {
          "name": "stdout",
          "output_type": "stream",
          "text": [
            "반지름의 값을 입력하세요: 14242\n"
          ]
        }
      ]
    },
    {
      "cell_type": "markdown",
      "source": [
        "원뿔 계산 프로그램 개선"
      ],
      "metadata": {
        "id": "o1aoIihhlrBZ"
      }
    },
    {
      "cell_type": "code",
      "source": [
        "#반지름, 높이 값 할당\n",
        "rad = int(input(\"반지름의 값을 입력하세요: \"))\n",
        "hei = int(input(\"높이 값을 입력하세요: \"))\n",
        "#부피 출력\n",
        "print(\"부피의 값은 \", 1 / 3 * 3.14 * rad ** 2 * hei, \"입니다.\", sep=\"\")\n",
        "#겉넓이 출력\n",
        "print(\"겉넒이의 값은 \", 3.14 * rad ** 2 + 3.14 * rad * hei, \"입니다.\", sep=\"\")"
      ],
      "metadata": {
        "id": "jzJqpbKgluL7",
        "colab": {
          "base_uri": "https://localhost:8080/"
        },
        "outputId": "bfed505e-3ec9-4471-8e40-6320829a3a09"
      },
      "execution_count": 14,
      "outputs": [
        {
          "output_type": "stream",
          "name": "stdout",
          "text": [
            "반지름의 값을 입력하세요: 3\n",
            "높이 값을 입력하세요: 5\n",
            "부피의 값은 47.1입니다.\n",
            "겉넒이의 값은 75.36입니다.\n"
          ]
        }
      ]
    }
  ]
}